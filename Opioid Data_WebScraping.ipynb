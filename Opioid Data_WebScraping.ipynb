{
 "cells": [
  {
   "cell_type": "markdown",
   "metadata": {},
   "source": [
    "### Opioid Crisis Data WebScraping \n",
    "- Selenium is primarily an easy to use automation tool for testing websites. Here we use it to click-through various options on https://www.kff.org to download the opioid fatalities and demographic datasets."
   ]
  },
  {
   "cell_type": "code",
   "execution_count": 8,
   "metadata": {},
   "outputs": [],
   "source": [
    "import numpy as np\n",
    "import pandas as pd\n",
    "from selenium import webdriver\n",
    "from selenium.webdriver.common.keys import Keys\n",
    "from selenium.webdriver.support.ui import Select\n",
    "import time\n",
    "\n",
    "\n",
    "## Need browser specific driver for Selenium\n",
    "driver = webdriver.Chrome('C:/Users/bnsha_000/Downloads/chromedriver_win32/chromedriver')"
   ]
  },
  {
   "cell_type": "markdown",
   "metadata": {},
   "source": [
    "#### Opioid Overdose Deaths Data\n",
    "- Opioid Overdose Deaths and Opioid Overdose Deaths as a Percent of All Drug Overdose Deaths\n",
    "- Opioid Overdose Death Rates and All Drug Overdose Death Rates per 100,000 Population (Age-Adjusted)\n",
    "- Prescription Opioid Overdose Deaths and Death Rate per 100,000 Population (Age-Adjusted)\n",
    "- Opioid Overdose Deaths by Type of Opioid\n",
    "- Opioid Overdose Deaths by Race/Ethnicity\n",
    "- Opioid Overdose Deaths by Age Group\n",
    "- Opioid Overdose Deaths by Gender"
   ]
  },
  {
   "cell_type": "code",
   "execution_count": 9,
   "metadata": {},
   "outputs": [
    {
     "name": "stdout",
     "output_type": "stream",
     "text": [
      "Percent of All Drug\n",
      "Drug Overdose Death Rates\n",
      "Prescription Opioid\n",
      "Type of Opioid\n",
      "Opioid Overdose Deaths by Race/Ethnicity\n",
      "Opioid Overdose Deaths by Age Group\n",
      "Opioid Overdose Deaths by Gender\n"
     ]
    }
   ],
   "source": [
    "url = 'https://www.kff.org/state-category/health-status/'\n",
    "\n",
    "## Define Parameter Set for Retrieval\n",
    "links_list = ['Percent of All Drug',\n",
    "             'Drug Overdose Death Rates',\n",
    "             'Prescription Opioid',\n",
    "             'Type of Opioid',\n",
    "             'Opioid Overdose Deaths by Race/Ethnicity',\n",
    "             'Opioid Overdose Deaths by Age Group',\n",
    "             'Opioid Overdose Deaths by Gender']\n",
    "\n",
    "for param in links_list:\n",
    "    print(param)\n",
    "    driver.get(url)\n",
    "    link = driver.find_element_by_partial_link_text(param)\n",
    "    webdriver.ActionChains(driver).move_to_element(link).click(link).perform()\n",
    "    time.sleep(10)\n",
    "\n",
    "driver.execute_script(\"window.scrollTo(0, 0)\")"
   ]
  },
  {
   "cell_type": "markdown",
   "metadata": {},
   "source": [
    "#### Demographics Data\n",
    "- Population Distribution by Age, Citizenship Status, Family Structure, Gender, and Race/Ethnicity\n",
    "- Distribution of Total Population by Federal Poverty Level\n",
    "- Nonelderly Adult Poverty Rate by Family Structure, Gender\n",
    "- Unemployment rate (Seasonally Adjusted)\n",
    "- Distribution of Nonelderly Population by Household Employment Status, Occupational Category"
   ]
  },
  {
   "cell_type": "code",
   "execution_count": null,
   "metadata": {},
   "outputs": [],
   "source": [
    "url = 'https://www.kff.org/state-category/demographics-and-the-economy/'\n",
    "\n",
    "## Define Parameter Set for Retrieval\n",
    "links_list = ['Population Distribution by Age',\n",
    "             'Population Distribution by Citizenship Status',\n",
    "             'Population Distribution by Family Structure',\n",
    "             'Population Distribution by Gender',\n",
    "             'Population Distribution by Race/Ethnicity',\n",
    "             'Poverty Rate by Family Structure',\n",
    "             'Poverty Rate by Gender',\n",
    "             'Unemployment rate',\n",
    "             'Household Employment Status',\n",
    "             'Occupational Category']\n",
    "\n",
    "for param in links_list:\n",
    "    print(param)\n",
    "    driver.get(url)\n",
    "    link = driver.find_element_by_partial_link_text(param)\n",
    "    webdriver.ActionChains(driver).move_to_element(link).click(link).perform()\n",
    "    time.sleep(10)\n",
    "\n",
    "driver.execute_script(\"window.scrollTo(0, 0)\")"
   ]
  },
  {
   "cell_type": "code",
   "execution_count": null,
   "metadata": {},
   "outputs": [],
   "source": [
    "import pandas as pd\n",
    "import os\n",
    "import pyarrow as pa\n",
    "import pyarrow.parquet as pq\n",
    "\n",
    "path = 'C:/Users/bnsha_000/Desktop/Data Analysis/OpioidCrisis/'\n",
    "pq_path = path + '1_Data/parquet/'\n",
    "csv_path = path + '1_Data/zip/'\n",
    "\n",
    "filelist = os.listdir(csv_path)\n",
    "for file in filelist:\n",
    "    temp = pd.read_csv(csv_path + file,compression='zip')\n",
    "    yr = temp['YEAR'].iloc[0]\n",
    "    mnth = temp['MONTH'].iloc[0]\n",
    "    fname = 'Opioid_Data_'+str(yr)+'_'+str(mnth)+'.parquet'\n",
    "    table = pa.Table.from_pandas(temp)\n",
    "    pq.write_table(table,fname)\n",
    "    print(fname)"
   ]
  }
 ],
 "metadata": {
  "kernelspec": {
   "display_name": "Python 3",
   "language": "python",
   "name": "python3"
  },
  "language_info": {
   "codemirror_mode": {
    "name": "ipython",
    "version": 3
   },
   "file_extension": ".py",
   "mimetype": "text/x-python",
   "name": "python",
   "nbconvert_exporter": "python",
   "pygments_lexer": "ipython3",
   "version": "3.7.0"
  }
 },
 "nbformat": 4,
 "nbformat_minor": 2
}
